{
 "cells": [
  {
   "cell_type": "markdown",
   "id": "ce2cae10",
   "metadata": {},
   "source": [
    "# Explore translation"
   ]
  },
  {
   "cell_type": "code",
   "execution_count": 4,
   "id": "868cbd2d",
   "metadata": {},
   "outputs": [],
   "source": [
    "from transformers import AutoModelForSeq2SeqLM, AutoTokenizer"
   ]
  },
  {
   "cell_type": "code",
   "execution_count": 5,
   "id": "b7aca24a",
   "metadata": {},
   "outputs": [
    {
     "data": {
      "application/vnd.jupyter.widget-view+json": {
       "model_id": "ce16ba10b43a4f0ab9ba80f2651c2a6c",
       "version_major": 2,
       "version_minor": 0
      },
      "text/plain": [
       "Downloading (…)okenizer_config.json:   0%|          | 0.00/564 [00:00<?, ?B/s]"
      ]
     },
     "metadata": {},
     "output_type": "display_data"
    },
    {
     "data": {
      "application/vnd.jupyter.widget-view+json": {
       "model_id": "e4401f37a6a3412c9c8ad99f0715ae88",
       "version_major": 2,
       "version_minor": 0
      },
      "text/plain": [
       "Downloading (…)tencepiece.bpe.model:   0%|          | 0.00/4.85M [00:00<?, ?B/s]"
      ]
     },
     "metadata": {},
     "output_type": "display_data"
    },
    {
     "data": {
      "application/vnd.jupyter.widget-view+json": {
       "model_id": "aa169ea3feaa4a7da36ce4937c6642af",
       "version_major": 2,
       "version_minor": 0
      },
      "text/plain": [
       "Downloading tokenizer.json:   0%|          | 0.00/17.3M [00:00<?, ?B/s]"
      ]
     },
     "metadata": {},
     "output_type": "display_data"
    },
    {
     "data": {
      "application/vnd.jupyter.widget-view+json": {
       "model_id": "84a7cc744f0e4da6a171b234f174071c",
       "version_major": 2,
       "version_minor": 0
      },
      "text/plain": [
       "Downloading (…)cial_tokens_map.json:   0%|          | 0.00/3.55k [00:00<?, ?B/s]"
      ]
     },
     "metadata": {},
     "output_type": "display_data"
    },
    {
     "data": {
      "application/vnd.jupyter.widget-view+json": {
       "model_id": "3839d959fa67453fb965f2b2c082e37a",
       "version_major": 2,
       "version_minor": 0
      },
      "text/plain": [
       "Downloading (…)lve/main/config.json:   0%|          | 0.00/846 [00:00<?, ?B/s]"
      ]
     },
     "metadata": {},
     "output_type": "display_data"
    },
    {
     "data": {
      "application/vnd.jupyter.widget-view+json": {
       "model_id": "b8fecc9cd0594cab8161493943ab56c8",
       "version_major": 2,
       "version_minor": 0
      },
      "text/plain": [
       "Downloading pytorch_model.bin:   0%|          | 0.00/2.46G [00:00<?, ?B/s]"
      ]
     },
     "metadata": {},
     "output_type": "display_data"
    },
    {
     "data": {
      "application/vnd.jupyter.widget-view+json": {
       "model_id": "3aeda4e8cb3b4e819a7088660e88190a",
       "version_major": 2,
       "version_minor": 0
      },
      "text/plain": [
       "Downloading (…)neration_config.json:   0%|          | 0.00/189 [00:00<?, ?B/s]"
      ]
     },
     "metadata": {},
     "output_type": "display_data"
    }
   ],
   "source": [
    "MODEL_NAME = \"facebook/nllb-200-distilled-600M\"\n",
    "\n",
    "tokenizer = AutoTokenizer.from_pretrained(MODEL_NAME)\n",
    "model = AutoModelForSeq2SeqLM.from_pretrained(MODEL_NAME)\n"
   ]
  },
  {
   "cell_type": "code",
   "execution_count": 6,
   "id": "fb1dd05a",
   "metadata": {},
   "outputs": [],
   "source": [
    "batched_input = [\n",
    "'We now have 4-month-old mice that are non-diabetic that used to be diabetic,\" he added.',\n",
    "\"Dr. Ehud Ur, professor of medicine at Dalhousie University in Halifax, Nova Scotia and chair of the clinical and scientific division of the Canadian Diabetes Association cautioned that the research is still in its early days.\"\n",
    "\"Like some other experts, he is skeptical about whether diabetes can be cured, noting that these findings have no relevance to people who already have Type 1 diabetes.\"\n",
    "\"On Monday, Sara Danius, permanent secretary of the Nobel Committee for Literature at the Swedish Academy, publicly announced during a radio program on Sveriges Radio in Sweden the committee, unable to reach Bob Dylan directly about winning the 2016 Nobel Prize in Literature, had abandoned its efforts to reach him.\",\n",
    "'Danius said, \"Right now we are doing nothing. I have called and sent emails to his closest collaborator and received very friendly replies. For now, that is certainly enough.\"',\n",
    "\"Previously, Ring's CEO, Jamie Siminoff, remarked the company started when his doorbell wasn't audible from his shop in his garage.\",\n",
    "]"
   ]
  },
  {
   "cell_type": "code",
   "execution_count": 10,
   "id": "3bcff4cd",
   "metadata": {},
   "outputs": [],
   "source": [
    "inputs = tokenizer(batched_input, return_tensors=\"pt\", padding = True)"
   ]
  },
  {
   "cell_type": "code",
   "execution_count": 14,
   "id": "52608a35",
   "metadata": {},
   "outputs": [
    {
     "name": "stderr",
     "output_type": "stream",
     "text": [
      "/home/jdpq/nlp/translator/venv/lib/python3.10/site-packages/transformers/generation/utils.py:1353: UserWarning: Using `max_length`'s default (200) to control the generation length. This behaviour is deprecated and will be removed from the config in v5 of Transformers -- we recommend using `max_new_tokens` to control the maximum length of the generation.\n",
      "  warnings.warn(\n"
     ]
    }
   ],
   "source": [
    "DESTINATION_LANGUAGE = \"spa_Latn\"\n",
    "#DESTINATION_LANGUAGE = \"fra_Latn\"\n",
    "\n",
    "translated_tokens = model.generate(\n",
    "    **inputs, forced_bos_token_id=tokenizer.lang_code_to_id[DESTINATION_LANGUAGE]\n",
    ")"
   ]
  },
  {
   "cell_type": "code",
   "execution_count": 15,
   "id": "3e4c1251",
   "metadata": {},
   "outputs": [
    {
     "data": {
      "text/plain": [
       "['Ahora tenemos ratones de 4 meses de edad que no son diabéticos y que antes eran diabéticos\", añadió.',\n",
       " 'El Dr. Ehud Ur, profesor de medicina en la Universidad Dalhousie en Halifax, Nueva Escocia y presidente de la división clínica y científica de la Asociación Canadiense de Diabetes advirtió que la investigación todavía está en sus primeros días. Al igual que algunos otros expertos, es escéptico sobre si la diabetes puede curarse, señalando que estos hallazgos no tienen relevancia para las personas que ya tienen diabetes tipo 1. El lunes, Sara Danius, secretaria permanente del Comité Nobel de Literatura en la Academia Sueca, anunció públicamente durante un programa de radio en Sveriges Radio en Suecia que el comité, no pudo llegar directamente a Bob Dylan sobre ganar el Premio Nobel de Literatura de 2016, había abandonado sus esfuerzos para llegar a él.',\n",
       " 'Danius dijo: \"En este momento no estamos haciendo nada. He llamado y enviado correos electrónicos a su colaborador más cercano y recibí respuestas muy amistosas.',\n",
       " 'Anteriormente, el CEO de Ring, Jamie Siminoff, comentó que la compañía comenzó cuando su timbre no era audible desde su tienda en su garaje.']"
      ]
     },
     "execution_count": 15,
     "metadata": {},
     "output_type": "execute_result"
    }
   ],
   "source": [
    "tokenizer.batch_decode(translated_tokens, skip_special_tokens=True)"
   ]
  },
  {
   "cell_type": "code",
   "execution_count": null,
   "id": "fde04dab",
   "metadata": {},
   "outputs": [],
   "source": []
  },
  {
   "cell_type": "code",
   "execution_count": null,
   "id": "3c112d93",
   "metadata": {},
   "outputs": [],
   "source": []
  },
  {
   "cell_type": "code",
   "execution_count": 13,
   "id": "091deded",
   "metadata": {},
   "outputs": [
    {
     "data": {
      "text/plain": [
       "{'ace_Arab': 256001,\n",
       " 'ace_Latn': 256002,\n",
       " 'acm_Arab': 256003,\n",
       " 'acq_Arab': 256004,\n",
       " 'aeb_Arab': 256005,\n",
       " 'afr_Latn': 256006,\n",
       " 'ajp_Arab': 256007,\n",
       " 'aka_Latn': 256008,\n",
       " 'amh_Ethi': 256009,\n",
       " 'apc_Arab': 256010,\n",
       " 'arb_Arab': 256011,\n",
       " 'ars_Arab': 256012,\n",
       " 'ary_Arab': 256013,\n",
       " 'arz_Arab': 256014,\n",
       " 'asm_Beng': 256015,\n",
       " 'ast_Latn': 256016,\n",
       " 'awa_Deva': 256017,\n",
       " 'ayr_Latn': 256018,\n",
       " 'azb_Arab': 256019,\n",
       " 'azj_Latn': 256020,\n",
       " 'bak_Cyrl': 256021,\n",
       " 'bam_Latn': 256022,\n",
       " 'ban_Latn': 256023,\n",
       " 'bel_Cyrl': 256024,\n",
       " 'bem_Latn': 256025,\n",
       " 'ben_Beng': 256026,\n",
       " 'bho_Deva': 256027,\n",
       " 'bjn_Arab': 256028,\n",
       " 'bjn_Latn': 256029,\n",
       " 'bod_Tibt': 256030,\n",
       " 'bos_Latn': 256031,\n",
       " 'bug_Latn': 256032,\n",
       " 'bul_Cyrl': 256033,\n",
       " 'cat_Latn': 256034,\n",
       " 'ceb_Latn': 256035,\n",
       " 'ces_Latn': 256036,\n",
       " 'cjk_Latn': 256037,\n",
       " 'ckb_Arab': 256038,\n",
       " 'crh_Latn': 256039,\n",
       " 'cym_Latn': 256040,\n",
       " 'dan_Latn': 256041,\n",
       " 'deu_Latn': 256042,\n",
       " 'dik_Latn': 256043,\n",
       " 'dyu_Latn': 256044,\n",
       " 'dzo_Tibt': 256045,\n",
       " 'ell_Grek': 256046,\n",
       " 'eng_Latn': 256047,\n",
       " 'epo_Latn': 256048,\n",
       " 'est_Latn': 256049,\n",
       " 'eus_Latn': 256050,\n",
       " 'ewe_Latn': 256051,\n",
       " 'fao_Latn': 256052,\n",
       " 'pes_Arab': 256053,\n",
       " 'fij_Latn': 256054,\n",
       " 'fin_Latn': 256055,\n",
       " 'fon_Latn': 256056,\n",
       " 'fra_Latn': 256057,\n",
       " 'fur_Latn': 256058,\n",
       " 'fuv_Latn': 256059,\n",
       " 'gla_Latn': 256060,\n",
       " 'gle_Latn': 256061,\n",
       " 'glg_Latn': 256062,\n",
       " 'grn_Latn': 256063,\n",
       " 'guj_Gujr': 256064,\n",
       " 'hat_Latn': 256065,\n",
       " 'hau_Latn': 256066,\n",
       " 'heb_Hebr': 256067,\n",
       " 'hin_Deva': 256068,\n",
       " 'hne_Deva': 256069,\n",
       " 'hrv_Latn': 256070,\n",
       " 'hun_Latn': 256071,\n",
       " 'hye_Armn': 256072,\n",
       " 'ibo_Latn': 256073,\n",
       " 'ilo_Latn': 256074,\n",
       " 'ind_Latn': 256075,\n",
       " 'isl_Latn': 256076,\n",
       " 'ita_Latn': 256077,\n",
       " 'jav_Latn': 256078,\n",
       " 'jpn_Jpan': 256079,\n",
       " 'kab_Latn': 256080,\n",
       " 'kac_Latn': 256081,\n",
       " 'kam_Latn': 256082,\n",
       " 'kan_Knda': 256083,\n",
       " 'kas_Arab': 256084,\n",
       " 'kas_Deva': 256085,\n",
       " 'kat_Geor': 256086,\n",
       " 'knc_Arab': 256087,\n",
       " 'knc_Latn': 256088,\n",
       " 'kaz_Cyrl': 256089,\n",
       " 'kbp_Latn': 256090,\n",
       " 'kea_Latn': 256091,\n",
       " 'khm_Khmr': 256092,\n",
       " 'kik_Latn': 256093,\n",
       " 'kin_Latn': 256094,\n",
       " 'kir_Cyrl': 256095,\n",
       " 'kmb_Latn': 256096,\n",
       " 'kon_Latn': 256097,\n",
       " 'kor_Hang': 256098,\n",
       " 'kmr_Latn': 256099,\n",
       " 'lao_Laoo': 256100,\n",
       " 'lvs_Latn': 256101,\n",
       " 'lij_Latn': 256102,\n",
       " 'lim_Latn': 256103,\n",
       " 'lin_Latn': 256104,\n",
       " 'lit_Latn': 256105,\n",
       " 'lmo_Latn': 256106,\n",
       " 'ltg_Latn': 256107,\n",
       " 'ltz_Latn': 256108,\n",
       " 'lua_Latn': 256109,\n",
       " 'lug_Latn': 256110,\n",
       " 'luo_Latn': 256111,\n",
       " 'lus_Latn': 256112,\n",
       " 'mag_Deva': 256113,\n",
       " 'mai_Deva': 256114,\n",
       " 'mal_Mlym': 256115,\n",
       " 'mar_Deva': 256116,\n",
       " 'min_Latn': 256117,\n",
       " 'mkd_Cyrl': 256118,\n",
       " 'plt_Latn': 256119,\n",
       " 'mlt_Latn': 256120,\n",
       " 'mni_Beng': 256121,\n",
       " 'khk_Cyrl': 256122,\n",
       " 'mos_Latn': 256123,\n",
       " 'mri_Latn': 256124,\n",
       " 'zsm_Latn': 256125,\n",
       " 'mya_Mymr': 256126,\n",
       " 'nld_Latn': 256127,\n",
       " 'nno_Latn': 256128,\n",
       " 'nob_Latn': 256129,\n",
       " 'npi_Deva': 256130,\n",
       " 'nso_Latn': 256131,\n",
       " 'nus_Latn': 256132,\n",
       " 'nya_Latn': 256133,\n",
       " 'oci_Latn': 256134,\n",
       " 'gaz_Latn': 256135,\n",
       " 'ory_Orya': 256136,\n",
       " 'pag_Latn': 256137,\n",
       " 'pan_Guru': 256138,\n",
       " 'pap_Latn': 256139,\n",
       " 'pol_Latn': 256140,\n",
       " 'por_Latn': 256141,\n",
       " 'prs_Arab': 256142,\n",
       " 'pbt_Arab': 256143,\n",
       " 'quy_Latn': 256144,\n",
       " 'ron_Latn': 256145,\n",
       " 'run_Latn': 256146,\n",
       " 'rus_Cyrl': 256147,\n",
       " 'sag_Latn': 256148,\n",
       " 'san_Deva': 256149,\n",
       " 'sat_Beng': 256150,\n",
       " 'scn_Latn': 256151,\n",
       " 'shn_Mymr': 256152,\n",
       " 'sin_Sinh': 256153,\n",
       " 'slk_Latn': 256154,\n",
       " 'slv_Latn': 256155,\n",
       " 'smo_Latn': 256156,\n",
       " 'sna_Latn': 256157,\n",
       " 'snd_Arab': 256158,\n",
       " 'som_Latn': 256159,\n",
       " 'sot_Latn': 256160,\n",
       " 'spa_Latn': 256161,\n",
       " 'als_Latn': 256162,\n",
       " 'srd_Latn': 256163,\n",
       " 'srp_Cyrl': 256164,\n",
       " 'ssw_Latn': 256165,\n",
       " 'sun_Latn': 256166,\n",
       " 'swe_Latn': 256167,\n",
       " 'swh_Latn': 256168,\n",
       " 'szl_Latn': 256169,\n",
       " 'tam_Taml': 256170,\n",
       " 'tat_Cyrl': 256171,\n",
       " 'tel_Telu': 256172,\n",
       " 'tgk_Cyrl': 256173,\n",
       " 'tgl_Latn': 256174,\n",
       " 'tha_Thai': 256175,\n",
       " 'tir_Ethi': 256176,\n",
       " 'taq_Latn': 256177,\n",
       " 'taq_Tfng': 256178,\n",
       " 'tpi_Latn': 256179,\n",
       " 'tsn_Latn': 256180,\n",
       " 'tso_Latn': 256181,\n",
       " 'tuk_Latn': 256182,\n",
       " 'tum_Latn': 256183,\n",
       " 'tur_Latn': 256184,\n",
       " 'twi_Latn': 256185,\n",
       " 'tzm_Tfng': 256186,\n",
       " 'uig_Arab': 256187,\n",
       " 'ukr_Cyrl': 256188,\n",
       " 'umb_Latn': 256189,\n",
       " 'urd_Arab': 256190,\n",
       " 'uzn_Latn': 256191,\n",
       " 'vec_Latn': 256192,\n",
       " 'vie_Latn': 256193,\n",
       " 'war_Latn': 256194,\n",
       " 'wol_Latn': 256195,\n",
       " 'xho_Latn': 256196,\n",
       " 'ydd_Hebr': 256197,\n",
       " 'yor_Latn': 256198,\n",
       " 'yue_Hant': 256199,\n",
       " 'zho_Hans': 256200,\n",
       " 'zho_Hant': 256201,\n",
       " 'zul_Latn': 256202}"
      ]
     },
     "execution_count": 13,
     "metadata": {},
     "output_type": "execute_result"
    }
   ],
   "source": [
    "tokenizer.lang_code_to_id"
   ]
  },
  {
   "cell_type": "code",
   "execution_count": null,
   "id": "1b2fb5ea",
   "metadata": {},
   "outputs": [],
   "source": []
  },
  {
   "cell_type": "code",
   "execution_count": null,
   "id": "179eb1a3",
   "metadata": {},
   "outputs": [],
   "source": []
  }
 ],
 "metadata": {
  "kernelspec": {
   "display_name": "Python 3 (ipykernel)",
   "language": "python",
   "name": "python3"
  },
  "language_info": {
   "codemirror_mode": {
    "name": "ipython",
    "version": 3
   },
   "file_extension": ".py",
   "mimetype": "text/x-python",
   "name": "python",
   "nbconvert_exporter": "python",
   "pygments_lexer": "ipython3",
   "version": "3.10.6"
  }
 },
 "nbformat": 4,
 "nbformat_minor": 5
}
